{
 "cells": [
  {
   "cell_type": "code",
   "execution_count": 63,
   "id": "852f946b",
   "metadata": {},
   "outputs": [],
   "source": [
    "import pandas as pd\n",
    "from sklearn.ensemble import RandomForestClassifier\n",
    "from sklearn.linear_model import LogisticRegression\n",
    "from sklearn.model_selection import train_test_split\n",
    "from sklearn.metrics import accuracy_score\n",
    "from pandas_profiling import ProfileReport"
   ]
  },
  {
   "cell_type": "code",
   "execution_count": 64,
   "id": "f9ab534f",
   "metadata": {},
   "outputs": [],
   "source": [
    "def load_data(file_path, target_column):\n",
    "    data = pd.read_csv(file_path)"
   ]
  },
  {
   "cell_type": "code",
   "execution_count": 65,
   "id": "c79dc48b",
   "metadata": {},
   "outputs": [
    {
     "data": {
      "application/vnd.jupyter.widget-view+json": {
       "model_id": "42cbe4d55461485992b1e4adf93862f5",
       "version_major": 2,
       "version_minor": 0
      },
      "text/plain": [
       "Summarize dataset:   0%|          | 0/5 [00:00<?, ?it/s]"
      ]
     },
     "metadata": {},
     "output_type": "display_data"
    },
    {
     "data": {
      "application/vnd.jupyter.widget-view+json": {
       "model_id": "5c5219399240415c99cd82f8b70d7c3e",
       "version_major": 2,
       "version_minor": 0
      },
      "text/plain": [
       "Generate report structure:   0%|          | 0/1 [00:00<?, ?it/s]"
      ]
     },
     "metadata": {},
     "output_type": "display_data"
    },
    {
     "data": {
      "application/vnd.jupyter.widget-view+json": {
       "model_id": "023fd9ae2f054c3bb40dc0bf03a79ffc",
       "version_major": 2,
       "version_minor": 0
      },
      "text/plain": [
       "Render HTML:   0%|          | 0/1 [00:00<?, ?it/s]"
      ]
     },
     "metadata": {},
     "output_type": "display_data"
    },
    {
     "data": {
      "application/vnd.jupyter.widget-view+json": {
       "model_id": "5779b56533144149a1d882c6de8bf8ae",
       "version_major": 2,
       "version_minor": 0
      },
      "text/plain": [
       "Export report to file:   0%|          | 0/1 [00:00<?, ?it/s]"
      ]
     },
     "metadata": {},
     "output_type": "display_data"
    },
    {
     "name": "stdout",
     "output_type": "stream",
     "text": [
      "\n"
     ]
    }
   ],
   "source": [
    "profile = ProfileReport(data, title=\"Data Profile Report\", explorative=True)\n",
    "profile.to_file(\"data_profile_report.html\")  # Exportez le rapport au format HTML\n",
    "print(profile)"
   ]
  },
  {
   "cell_type": "code",
   "execution_count": 73,
   "id": "1787be2a",
   "metadata": {},
   "outputs": [
    {
     "data": {
      "text/plain": [
       "country_number                     0\n",
       "country_code                       0\n",
       "country                            0\n",
       "year                               0\n",
       "systemic_crisis                    0\n",
       "exch_usd                           0\n",
       "domestic_debt_in_default           0\n",
       "sovereign_external_debt_default    0\n",
       "gdp_weighted_default               0\n",
       "inflation_annual_cpi               0\n",
       "independence                       0\n",
       "currency_crises                    0\n",
       "inflation_crises                   0\n",
       "banking_crisis                     0\n",
       "dtype: int64"
      ]
     },
     "execution_count": 73,
     "metadata": {},
     "output_type": "execute_result"
    }
   ],
   "source": [
    "data.isna().sum()\n",
    "# Nous n'avons pas de valeure manquante."
   ]
  },
  {
   "cell_type": "code",
   "execution_count": 66,
   "id": "223f8177",
   "metadata": {},
   "outputs": [],
   "source": [
    "def load_data(file_path, target_column):\n",
    "    data = pd.read_csv(file_path)\n",
    "    \n",
    "    # Sélectionner les colonnes catégorielles (qualitatives) et les colonnes numériques\n",
    "    categorical_columns = data.select_dtypes(include=['object']).columns\n",
    "    numeric_columns = data.select_dtypes(exclude=['object']).columns\n",
    "    \n",
    "    # Effectuer l'encodage one-hot des variables catégorielles\n",
    "    data = pd.get_dummies(data, columns=categorical_columns, drop_first=True)\n",
    "    \n",
    "    X = data.drop(target_column, axis=1)\n",
    "    y = data[target_column]\n",
    "    return X, y"
   ]
  },
  {
   "cell_type": "code",
   "execution_count": 67,
   "id": "53462125",
   "metadata": {},
   "outputs": [],
   "source": [
    "def train_random_forest_classifier(X, y):\n",
    "    rf_classifier = RandomForestClassifier(n_estimators=100, random_state=42)\n",
    "    rf_classifier.fit(X, y)\n",
    "    return rf_classifier"
   ]
  },
  {
   "cell_type": "code",
   "execution_count": 68,
   "id": "1cd391bf",
   "metadata": {},
   "outputs": [],
   "source": [
    "def train_logistic_regression_with_rf_predictions(X_train, y_train, X_test, rf_classifier):\n",
    "    rf_train_predictions = rf_classifier.predict(X_train)\n",
    "    X_train_with_rf_predictions = X_train.copy()\n",
    "    X_train_with_rf_predictions['rf_predictions'] = rf_train_predictions\n",
    "\n",
    "    lr_classifier = LogisticRegression(max_iter=1000, random_state=42)\n",
    "    lr_classifier.fit(X_train_with_rf_predictions, y_train)\n",
    "\n",
    "    rf_test_predictions = rf_classifier.predict(X_test)\n",
    "    X_test_with_rf_predictions = X_test.copy()\n",
    "    X_test_with_rf_predictions['rf_predictions'] = rf_test_predictions\n",
    "\n",
    "    lr_predictions = lr_classifier.predict(X_test_with_rf_predictions)\n",
    "\n",
    "    return lr_predictions"
   ]
  },
  {
   "cell_type": "code",
   "execution_count": 69,
   "id": "cda98d8e",
   "metadata": {},
   "outputs": [],
   "source": [
    "def evaluate_model(y_test, lr_predictions):\n",
    "    accuracy = accuracy_score(y_test, lr_predictions)\n",
    "    return accuracy"
   ]
  },
  {
   "cell_type": "code",
   "execution_count": 71,
   "id": "6ac57cec",
   "metadata": {},
   "outputs": [
    {
     "name": "stdout",
     "output_type": "stream",
     "text": [
      "Accuracy of Logistic Regression with Random Forest predictions: 1.0\n"
     ]
    }
   ],
   "source": [
    "if __name__ == \"__main__\":\n",
    "    file_path = '/Users/mac/Downloads/African_crises_dataset.csv'  # Assurez-vous de spécifier le chemin vers votre fichier CSV\n",
    "    target_column = 'systemic_crisis'  # Remplacez par le nom de votre variable cible\n",
    "\n",
    "    X, y = load_data(file_path, target_column)\n",
    "    X_train, X_test, y_train, y_test = train_test_split(X, y, test_size=0.2, random_state=42)\n",
    "\n",
    "    rf_classifier = train_random_forest_classifier(X_train, y_train)\n",
    "    lr_predictions = train_logistic_regression_with_rf_predictions(X_train, y_train, X_test, rf_classifier)\n",
    "\n",
    "    accuracy = evaluate_model(y_test, lr_predictions)\n",
    "    print(f\"Accuracy of Logistic Regression with Random Forest predictions: {accuracy}\")"
   ]
  },
  {
   "cell_type": "code",
   "execution_count": null,
   "id": "21147caf",
   "metadata": {},
   "outputs": [],
   "source": []
  }
 ],
 "metadata": {
  "kernelspec": {
   "display_name": "Python 3 (ipykernel)",
   "language": "python",
   "name": "python3"
  },
  "language_info": {
   "codemirror_mode": {
    "name": "ipython",
    "version": 3
   },
   "file_extension": ".py",
   "mimetype": "text/x-python",
   "name": "python",
   "nbconvert_exporter": "python",
   "pygments_lexer": "ipython3",
   "version": "3.7.16"
  }
 },
 "nbformat": 4,
 "nbformat_minor": 5
}
